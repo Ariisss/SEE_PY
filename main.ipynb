{
 "cells": [
  {
   "cell_type": "markdown",
   "metadata": {},
   "source": [
    "## Summary\n",
    "This project involves implementing the Sessa Empirical Estimator (SEE) for estimating prescription durations in a pharmacoepidemiological context. Originally written in R, the SEE will be ported to Python, and applied to a chosen dataset. The standard SEE approach uses K-Means clustering to group similar prescription intervals, but this project will also explore an alternative clustering algorithm to see if it produces different insights. Finally, the results and performance from both clustering methods will be compared, highlighting any differences in exposure classification or prescription duration estimates.\n",
    "\n",
    "## Objective\n",
    "\n",
    "#### 1. Replicate the SEE Methodology:\n",
    "- Convert the SEE R code into Python and validate its functionality on a dataset.\n",
    "- Implement K-Means clustering to estimate prescription durations and identify exposure windows.\n",
    "\n",
    "#### 2. Explore an Alternative Clustering Algorithm:\n",
    "- Substitute K-Means with a different clustering approach (e.g., DBSCAN, Hierarchical Clustering, or GMM).\n",
    "- Compare the resulting clusters, prescription durations, and exposure periods to those from K-Means.\n",
    "\n",
    "#### 3. Evaluate and Compare Results:\n",
    "- Generate metrics and visualizations to illustrate how each clustering algorithm performs.\n",
    "- Discuss strengths, weaknesses, and potential applications of each approach.\n",
    "\n",
    "#### 4. Document Findings and Insights:\n",
    "- Summarize the differences in performance and outcomes between K-Means-based SEE and the alternative method.\n",
    "- Provide clear recommendations on how clustering choice can affect pharmacoepidemiological analyses."
   ]
  }
 ],
 "metadata": {
  "language_info": {
   "name": "python"
  }
 },
 "nbformat": 4,
 "nbformat_minor": 2
}

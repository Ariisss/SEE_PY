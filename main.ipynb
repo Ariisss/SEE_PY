{
 "cells": [
  {
   "cell_type": "markdown",
   "metadata": {},
   "source": [
    "## Summary\n",
    "This project involves implementing the Sessa Empirical Estimator (SEE) for estimating prescription durations in a pharmacoepidemiological context. Originally written in R, the SEE will be ported to Python, and applied to a chosen dataset. The standard SEE approach uses K-Means clustering to group similar prescription intervals, but this project will also explore an alternative clustering algorithm to see if it produces different insights. Finally, the results and performance from both clustering methods will be compared, highlighting any differences in exposure classification or prescription duration estimates.\n",
    "\n",
    "## Objective\n",
    "\n",
    "#### 1. Replicate the SEE Methodology:\n",
    "- Convert the SEE R code into Python and validate its functionality on a dataset.\n",
    "- Implement K-Means clustering to estimate prescription durations and identify exposure windows.\n",
    "\n",
    "#### 2. Explore an Alternative Clustering Algorithm:\n",
    "- Substitute K-Means with a different clustering approach (e.g., DBSCAN, Hierarchical Clustering, or GMM).\n",
    "- Compare the resulting clusters, prescription durations, and exposure periods to those from K-Means.\n",
    "\n",
    "#### 3. Evaluate and Compare Results:\n",
    "- Generate metrics and visualizations to illustrate how each clustering algorithm performs.\n",
    "- Discuss strengths, weaknesses, and potential applications of each approach.\n",
    "\n",
    "#### 4. Document Findings and Insights:\n",
    "- Summarize the differences in performance and outcomes between K-Means-based SEE and the alternative method.\n",
    "- Provide clear recommendations on how clustering choice can affect pharmacoepidemiological analyses."
   ]
  },
  {
   "cell_type": "markdown",
   "metadata": {},
   "source": [
    "___\n",
    "\n",
    "# Process\n"
   ]
  },
  {
   "cell_type": "code",
   "execution_count": 1,
   "metadata": {},
   "outputs": [],
   "source": [
    "import pandas as pd\n",
    "import numpy as np\n",
    "import random\n",
    "from datetime import datetime, timedelta\n",
    "import matplotlib.pyplot as plt\n",
    "import seaborn as sns\n",
    "from sklearn.cluster import KMeans\n",
    "from sklearn.metrics import silhouette_score, silhouette_samples"
   ]
  },
  {
   "cell_type": "markdown",
   "metadata": {},
   "source": [
    "\n",
    "### Data Acquisition & Preparation\n",
    "\n",
    "1. First, we simulate a dataset based on the link provided, ensuring that the dataset has \"prescription-like\" intervals."
   ]
  },
  {
   "cell_type": "code",
   "execution_count": 2,
   "metadata": {},
   "outputs": [
    {
     "name": "stdout",
     "output_type": "stream",
     "text": [
      "Simulated data shape: (9316, 5)\n",
      "       pnr       eksd  perday     ATC  dur_original\n",
      "0        1 2020-01-01       1  ABC123            30\n",
      "1        1 2020-04-05       1  ABC123            90\n",
      "2        1 2020-06-14       1  ABC123            60\n",
      "3        1 2020-09-27       1  ABC123            90\n",
      "4        1 2021-01-15       1  ABC123            90\n",
      "...    ...        ...     ...     ...           ...\n",
      "9311  1000 2020-11-11       1  ABC123            30\n",
      "9312  1000 2021-01-10       1  ABC123            30\n",
      "9313  1000 2021-04-15       1  ABC123            60\n",
      "9314  1000 2021-07-24       1  ABC123            60\n",
      "9315  1000 2021-12-06       1  ABC123            90\n",
      "\n",
      "[9316 rows x 5 columns]\n"
     ]
    }
   ],
   "source": [
    "random.seed(42)\n",
    "np.random.seed(42)\n",
    "\n",
    "n_patients = 1000\n",
    "obs_period = 720\n",
    "start_date = datetime(2020,1,1)\n",
    "ATC_code = \"ABC123\"\n",
    "\n",
    "groups = np.random.choice([1,2,3,4,5,6], size=n_patients,\n",
    "                          p=[0.1,0.2,0.2,0.2,0.2,0.1])\n",
    "\n",
    "def simulate_patient(pid, group, start_date, obs_days):\n",
    "    rows = []\n",
    "    current_date = start_date\n",
    "    # initial 30-day supply\n",
    "    duration = 30\n",
    "    rows.append({\n",
    "        \"pnr\": pid,\n",
    "        \"eksd\": current_date,\n",
    "        \"perday\": 1,\n",
    "        \"ATC\": ATC_code,\n",
    "        \"dur_original\": duration\n",
    "    })\n",
    "    refill_idx = 1\n",
    "    end_date = start_date + timedelta(days=obs_days)\n",
    "\n",
    "    while True:\n",
    "        if group == 1:\n",
    "            delay = 0\n",
    "        elif group == 2:\n",
    "            delay = random.randint(0,30)\n",
    "        elif group == 3:\n",
    "            delay = refill_idx * 5\n",
    "        elif group == 4:\n",
    "            delay = 0 if (refill_idx % 2 == 0) else 15\n",
    "        elif group == 5:\n",
    "            delay = 0 if (refill_idx <=3) else 60\n",
    "        elif group == 6:\n",
    "            if refill_idx>1: break\n",
    "            delay = 0\n",
    "        else:\n",
    "            delay = 0\n",
    "        duration = int(np.random.choice([30,60,90]))\n",
    "        next_fill = current_date + timedelta(days=duration+delay)\n",
    "        if next_fill > end_date:\n",
    "            break\n",
    "        rows.append({\n",
    "            \"pnr\": pid,\n",
    "            \"eksd\": next_fill,\n",
    "            \"perday\": 1,\n",
    "            \"ATC\": ATC_code,\n",
    "            \"dur_original\": duration\n",
    "        })\n",
    "        current_date = next_fill\n",
    "        refill_idx +=1\n",
    "\n",
    "    return rows\n",
    "\n",
    "all_rows = []\n",
    "for i in range(n_patients):\n",
    "    pat_id = i+1\n",
    "    grp = groups[i]\n",
    "    sim = simulate_patient(pat_id, grp, start_date, obs_period)\n",
    "    all_rows.extend(sim)\n",
    "\n",
    "sim_df = pd.DataFrame(all_rows)\n",
    "sim_df[\"eksd\"] = pd.to_datetime(sim_df[\"eksd\"])  # keep datetime\n",
    "\n",
    "print(\"Simulated data shape:\", sim_df.shape)\n",
    "print(sim_df)\n"
   ]
  },
  {
   "cell_type": "markdown",
   "metadata": {},
   "source": [
    "## Silhouette Plotting Function"
   ]
  },
  {
   "cell_type": "code",
   "execution_count": 3,
   "metadata": {},
   "outputs": [],
   "source": [
    "\n",
    "def plot_silhouette(X, labels):\n",
    "    sil_vals = silhouette_samples(X, labels)\n",
    "    avg_sil = np.mean(sil_vals)\n",
    "    clusters = np.unique(labels)\n",
    "    y_lower = 10\n",
    "\n",
    "    plt.figure(figsize=(7,5))\n",
    "    for c in clusters:\n",
    "        c_sil = np.sort(sil_vals[labels == c])\n",
    "        y_upper = y_lower + len(c_sil)\n",
    "        color = sns.color_palette(\"hls\", len(clusters))[c]\n",
    "        plt.barh(range(y_lower, y_upper), c_sil, height=1.0, color=color)\n",
    "        plt.text(-0.05, (y_lower+y_upper)/2, str(c))\n",
    "        y_lower = y_upper + 10\n",
    "    plt.axvline(avg_sil, color=\"red\", linestyle=\"--\")\n",
    "    plt.title(\"Silhouette Plot\")\n",
    "    plt.xlabel(\"Coefficient\")\n",
    "    plt.ylabel(\"Cluster\")\n",
    "    plt.show()\n"
   ]
  },
  {
   "cell_type": "markdown",
   "metadata": {},
   "source": [
    "## R -> Python Code (SEE Implementation)"
   ]
  },
  {
   "cell_type": "code",
   "execution_count": 5,
   "metadata": {},
   "outputs": [],
   "source": [
    "def see_estimator(df, atc):\n",
    "    # filter\n",
    "    dff = df[df[\"ATC\"]==atc].copy()\n",
    "    if dff.empty:\n",
    "        print(f\"No rows for {atc}\")\n",
    "        df[\"Median\"] = np.nan\n",
    "        return df\n",
    "\n",
    "    dff.sort_values([\"pnr\",\"eksd\"], inplace=True)\n",
    "    dff[\"prev_eksd\"] = dff.groupby(\"pnr\")[\"eksd\"].shift(1)\n",
    "    dff.dropna(subset=[\"prev_eksd\"], inplace=True)\n",
    "    if dff.empty:\n",
    "        print(\"No consecutive refills.\")\n",
    "        df[\"Median\"] = np.nan\n",
    "        return df\n",
    "\n",
    "    dff[\"event_interval\"] = (dff[\"eksd\"] - dff[\"prev_eksd\"]) / pd.Timedelta(days=1)\n",
    "\n",
    "    # random pick of 1 row per pnr\n",
    "    def pick_rand(g):\n",
    "        return g.sample(n=1)\n",
    "\n",
    "    dff2 = dff.groupby(\"pnr\", group_keys=False).apply(pick_rand)\n",
    "\n",
    "    # 80% cutoff\n",
    "    p80 = np.percentile(dff2[\"event_interval\"], 80)\n",
    "    dff3 = dff2[dff2[\"event_interval\"] <= p80].copy()\n",
    "    if dff3.empty:\n",
    "        print(\"After 80% removal, empty.\")\n",
    "        df[\"Median\"] = np.nan\n",
    "        return df\n",
    "\n",
    "    X = dff3[[\"event_interval\"]].values\n",
    "\n",
    "    # find best k using silhouette\n",
    "    best_k=2\n",
    "    best_sil=-1\n",
    "    for k in range(2,8):\n",
    "        kmtemp=KMeans(n_clusters=k, random_state=42)\n",
    "        labs=kmtemp.fit_predict(X)\n",
    "        sil=silhouette_score(X, labs)\n",
    "        if sil>best_sil:\n",
    "            best_sil=sil\n",
    "            best_k=k\n",
    "\n",
    "    print(f\"Best k={best_k} with sil={best_sil:.3f}\")\n",
    "    final_km=KMeans(n_clusters=best_k, random_state=42)\n",
    "    final_labs=final_km.fit_predict(X)\n",
    "    dff3[\"cluster\"] = final_labs\n",
    "\n",
    "    # optional plot\n",
    "    print(\"Plotting silhouette...\")\n",
    "    plot_silhouette(X, final_labs)\n",
    "\n",
    "    # compute median durations\n",
    "    dff3[\"log_interval\"] = np.log(dff3[\"event_interval\"].clip(lower=1e-9))\n",
    "    meds = dff3.groupby(\"cluster\")[\"log_interval\"].median().reset_index()\n",
    "    meds.columns=[\"cluster\",\"median_log\"]\n",
    "    meds[\"median_duration\"] = np.exp(meds[\"median_log\"])\n",
    "\n",
    "    dff3 = dff3.merge(meds, on=\"cluster\", how=\"left\")\n",
    "    dff3[\"Median\"] = dff3[\"median_duration\"]\n",
    "\n",
    "    # fallback to main cluster\n",
    "    freq = dff3[\"cluster\"].value_counts()\n",
    "    main_c = freq.idxmax()\n",
    "    main_m = meds.loc[meds[\"cluster\"]==main_c, \"median_duration\"].values[0]\n",
    "\n",
    "    dff2_merged = dff2.merge(\n",
    "        dff3[[\"pnr\",\"eksd\",\"Median\"]],\n",
    "        on=[\"pnr\",\"eksd\"], how=\"left\"\n",
    "    )\n",
    "    dff2_merged[\"Median\"] = dff2_merged[\"Median\"].fillna(main_m)\n",
    "\n",
    "    # final merge\n",
    "    df_final = df.merge(\n",
    "        dff2_merged[[\"pnr\",\"Median\"]],\n",
    "        on=\"pnr\", how=\"left\"\n",
    "    )\n",
    "\n",
    "    df_final[\"Median\"] = df_final[\"Median\"].fillna(main_m)\n",
    "\n",
    "    return df_final"
   ]
  },
  {
   "cell_type": "markdown",
   "metadata": {},
   "source": [
    "## Code Run"
   ]
  },
  {
   "cell_type": "code",
   "execution_count": 6,
   "metadata": {},
   "outputs": [
    {
     "name": "stderr",
     "output_type": "stream",
     "text": [
      "C:\\Users\\Aris\\AppData\\Local\\Temp\\ipykernel_16052\\1220174109.py:23: DeprecationWarning: DataFrameGroupBy.apply operated on the grouping columns. This behavior is deprecated, and in a future version of pandas the grouping columns will be excluded from the operation. Either pass `include_groups=False` to exclude the groupings or explicitly select the grouping columns after groupby to silence this warning.\n",
      "  dff2 = dff.groupby(\"pnr\", group_keys=False).apply(pick_rand)\n"
     ]
    },
    {
     "name": "stdout",
     "output_type": "stream",
     "text": [
      "Best k=6 with sil=0.810\n",
      "Plotting silhouette...\n"
     ]
    },
    {
     "data": {
      "image/png": "[encoded data removed]",
      "text/plain": [
       "<Figure size 700x500 with 1 Axes>"
      ]
     },
     "metadata": {},
     "output_type": "display_data"
    },
    {
     "name": "stdout",
     "output_type": "stream",
     "text": [
      "(9316, 6)\n",
      "   pnr       eksd  perday     ATC  dur_original  Median\n",
      "0    1 2020-01-01       1  ABC123            30    60.0\n",
      "1    1 2020-04-05       1  ABC123            90    60.0\n",
      "2    1 2020-06-14       1  ABC123            60    60.0\n",
      "3    1 2020-09-27       1  ABC123            90    60.0\n",
      "4    1 2021-01-15       1  ABC123            90    60.0\n",
      "5    1 2021-03-11       1  ABC123            30    60.0\n",
      "6    1 2021-05-10       1  ABC123            30    60.0\n",
      "7    1 2021-09-12       1  ABC123            90    60.0\n",
      "8    1 2021-11-21       1  ABC123            30    60.0\n",
      "9    2 2020-01-01       1  ABC123            30    60.0\n"
     ]
    }
   ],
   "source": [
    "if __name__==\"__main__\":\n",
    "    final = see_estimator(sim_df, \"ABC123\")\n",
    "    print(final.shape)\n",
    "    print(final.head(10))"
   ]
  }
 ],
 "metadata": {
  "kernelspec": {
   "display_name": "Python 3",
   "language": "python",
   "name": "python3"
  },
  "language_info": {
   "codemirror_mode": {
    "name": "ipython",
    "version": 3
   },
   "file_extension": ".py",
   "mimetype": "text/x-python",
   "name": "python",
   "nbconvert_exporter": "python",
   "pygments_lexer": "ipython3",
   "version": "3.12.6"
  }
 },
 "nbformat": 4,
 "nbformat_minor": 2
}
